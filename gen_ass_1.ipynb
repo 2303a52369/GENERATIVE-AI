{
  "nbformat": 4,
  "nbformat_minor": 0,
  "metadata": {
    "colab": {
      "provenance": []
    },
    "kernelspec": {
      "name": "python3",
      "display_name": "Python 3"
    },
    "language_info": {
      "name": "python"
    }
  },
  "cells": [
    {
      "cell_type": "code",
      "execution_count": 1,
      "metadata": {
        "colab": {
          "base_uri": "https://localhost:8080/"
        },
        "id": "bcDfDu_N--gM",
        "outputId": "0370f53a-dc98-4ee6-fc0e-cacc83d66f67"
      },
      "outputs": [
        {
          "output_type": "stream",
          "name": "stdout",
          "text": [
            "[20, 30, 40, 50, 60]\n",
            "[20.5, 30.3, 40.2, 50.6, 60.7]\n"
          ]
        }
      ],
      "source": [
        "import pandas as pd\n",
        "import numpy as np\n",
        "import matplotlib.pyplot as plt\n",
        "y=[20,30,40,50,60]\n",
        "yp=[20.5,30.3,40.2,50.6,60.7]\n",
        "print(y)\n",
        "print(yp)"
      ]
    },
    {
      "cell_type": "code",
      "source": [
        "from sklearn.metrics import mean_squared_error\n",
        "import matplotlib.pyplot as plt\n",
        "mse=mean_squared_error(y,yp)\n",
        "print(mse)\n"
      ],
      "metadata": {
        "colab": {
          "base_uri": "https://localhost:8080/"
        },
        "id": "nzg6v7uP_Gub",
        "outputId": "abd33bb0-9544-4942-d4f9-b5cf9f1ce5b3"
      },
      "execution_count": 2,
      "outputs": [
        {
          "output_type": "stream",
          "name": "stdout",
          "text": [
            "0.24600000000000147\n"
          ]
        }
      ]
    },
    {
      "cell_type": "code",
      "source": [
        "from sklearn.metrics import mean_absolute_error\n",
        "mae=mean_absolute_error(y,yp)\n",
        "print(mae)\n"
      ],
      "metadata": {
        "colab": {
          "base_uri": "https://localhost:8080/"
        },
        "id": "8zQb2bJ3_I9b",
        "outputId": "d87066f2-c7aa-4588-b245-d2fd658181fc"
      },
      "execution_count": 3,
      "outputs": [
        {
          "output_type": "stream",
          "name": "stdout",
          "text": [
            "0.4600000000000016\n"
          ]
        }
      ]
    },
    {
      "cell_type": "code",
      "source": [
        "from sklearn .metrics import root_mean_squared_error\n",
        "rmse=root_mean_squared_error(y,yp)\n",
        "print(rmse)\n",
        ""
      ],
      "metadata": {
        "colab": {
          "base_uri": "https://localhost:8080/"
        },
        "id": "4_PWmow1_LJ5",
        "outputId": "03c1a1d1-a620-4fda-aa50-e666027c53f6"
      },
      "execution_count": 4,
      "outputs": [
        {
          "output_type": "stream",
          "name": "stdout",
          "text": [
            "0.49598387070549127\n"
          ]
        }
      ]
    },
    {
      "cell_type": "code",
      "source": [
        "y = np.array([20, 30, 40, 50, 60])\n",
        "yp = np.array([20.5, 30.3, 40.2, 50.6, 60.7])\n",
        "mean=np.mean(y)\n",
        "mean=np.mean(yp)\n",
        "print(mean)\n",
        "squared_errors = (y - yp) ** 2\n",
        "mse = np.mean(squared_errors)\n",
        "print(mse)"
      ],
      "metadata": {
        "colab": {
          "base_uri": "https://localhost:8080/"
        },
        "id": "4bRwBHyA_NdE",
        "outputId": "baac2d61-543b-40d9-947b-b8a1c7b58c06"
      },
      "execution_count": 5,
      "outputs": [
        {
          "output_type": "stream",
          "name": "stdout",
          "text": [
            "40.46\n",
            "0.24600000000000147\n"
          ]
        }
      ]
    },
    {
      "cell_type": "code",
      "source": [
        "import numpy as np\n",
        "y = np.array([20, 30, 40, 50, 60])\n",
        "yp = np.array([20.5, 30.3, 40.2, 50.6, 60.7])\n",
        "mean = np.mean(y)\n",
        "mean = np.mean(yp)\n",
        "absolute_errors = np.abs(y - yp)\n",
        "mae = np.mean(absolute_errors)\n",
        "print(mae)"
      ],
      "metadata": {
        "colab": {
          "base_uri": "https://localhost:8080/"
        },
        "id": "IbmUmJB9_PSq",
        "outputId": "76988564-ab4c-4b8d-8986-1eb8ccee1f4d"
      },
      "execution_count": 6,
      "outputs": [
        {
          "output_type": "stream",
          "name": "stdout",
          "text": [
            "0.4600000000000016\n"
          ]
        }
      ]
    },
    {
      "cell_type": "code",
      "source": [
        "import numpy as np\n",
        "y = np.array([20, 30, 40, 50, 60])\n",
        "yp = np.array([20.5, 30.3, 40.2, 50.6, 60.7])\n",
        "mean = np.mean(y)\n",
        "mean = np.mean(yp)\n",
        "rmse = np.sqrt(mean_squared_error(y, yp))\n",
        "print(rmse)"
      ],
      "metadata": {
        "colab": {
          "base_uri": "https://localhost:8080/"
        },
        "id": "D4IlQvAc_R7T",
        "outputId": "4a05cd74-1e13-48a5-863c-733f345b57f1"
      },
      "execution_count": 7,
      "outputs": [
        {
          "output_type": "stream",
          "name": "stdout",
          "text": [
            "0.49598387070549127\n"
          ]
        }
      ]
    },
    {
      "cell_type": "code",
      "source": [
        "import numpy as np\n",
        "from sklearn.metrics import classification_report, accuracy_score, precision_score, recall_score, f1_score\n",
        "Y_actual = np.array([0, 0, 1, 1, 2, 0, 0, 0, 1, 0, 2, 0, 0, 1, 1, 2, 2, 1, 0, 2, 1, 0, 2, 2, 0])\n",
        "Y_pred = np.array([0, 0, 1, 0, 2, 0, 0, 1, 1, 2, 2, 1, 0, 2, 1, 2, 2, 2, 0, 2, 1, 2, 2, 2, 2])\n",
        "accuracy_scratch = sum(Y_actual == Y_pred) / len(Y_actual)\n",
        "classes = set(Y_actual)\n",
        "precision_scratch = []\n",
        "recall_scratch = []\n",
        "f1_scratch = []\n",
        "for cls in classes:\n",
        "    tp = sum((Y_actual == cls) & (Y_pred == cls))\n",
        "    fp = sum((Y_actual != cls) & (Y_pred == cls))\n",
        "    fn = sum((Y_actual == cls) & (Y_pred != cls))\n",
        "    precision = tp / (tp + fp) if tp + fp > 0 else 0\n",
        "    recall = tp / (tp + fn) if tp + fn > 0 else 0\n",
        "    f1 = 2 * precision * recall / (precision + recall) if precision + recall > 0 else 0\n",
        "\n",
        "    precision_scratch.append(precision)\n",
        "    recall_scratch.append(recall)\n",
        "    f1_scratch.append(f1)\n",
        "precision_macro = sum(precision_scratch) / len(classes)\n",
        "recall_macro = sum(recall_scratch) / len(classes)\n",
        "f1_macro = sum(f1_scratch) / len(classes)\n",
        "accuracy_library = accuracy_score(Y_actual, Y_pred)\n",
        "precision_library = precision_score(Y_actual, Y_pred, average='macro')\n",
        "recall_library = recall_score(Y_actual, Y_pred, average='macro')\n",
        "f1_library = f1_score(Y_actual, Y_pred, average='macro')\n",
        "print(\"Evaluation Metrics from Scratch:\")\n",
        "print(f\"Accuracy: {accuracy_scratch}\")\n",
        "print(f\"Precision: {precision_macro}\")\n",
        "print(f\"Recall: {recall_macro}\")\n",
        "print(f\"F1-Score: {f1_macro}\")\n",
        "\n",
        "print(\"\\nEvaluation Metrics from Libraries:\")\n",
        "print(f\"Accuracy: {accuracy_library}\")\n",
        "print(f\"Precision: {precision_library}\")\n",
        "print(f\"Recall: {recall_library}\")\n",
        "print(f\"F1-Score: {f1_library}\")"
      ],
      "metadata": {
        "colab": {
          "base_uri": "https://localhost:8080/"
        },
        "id": "pEDa9yOv_Twp",
        "outputId": "761de144-a0fa-45d3-a2fd-5a22e1998431"
      },
      "execution_count": 8,
      "outputs": [
        {
          "output_type": "stream",
          "name": "stdout",
          "text": [
            "Evaluation Metrics from Scratch:\n",
            "Accuracy: 0.68\n",
            "Precision: 0.7023809523809524\n",
            "Recall: 0.7056277056277057\n",
            "F1-Score: 0.6729644624381467\n",
            "\n",
            "Evaluation Metrics from Libraries:\n",
            "Accuracy: 0.68\n",
            "Precision: 0.7023809523809524\n",
            "Recall: 0.7056277056277057\n",
            "F1-Score: 0.6729644624381467\n"
          ]
        }
      ]
    },
    {
      "cell_type": "code",
      "source": [],
      "metadata": {
        "id": "7kCfArnY_XK5"
      },
      "execution_count": null,
      "outputs": []
    }
  ]
}